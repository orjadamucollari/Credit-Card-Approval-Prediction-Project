{
 "cells": [
  {
   "cell_type": "markdown",
   "id": "b152317b-361f-4fa3-a352-5474fdb3a080",
   "metadata": {},
   "source": [
    "# <h1 style=\"font-family: Trebuchet MS; padding: 12px; font-size: 48px; color: #FBAD3C; text-align: center; line-height: 1.25;\"><b>💳 Credit Card<span style=\"color: #000000\"> Approval Prediction 🏦</span></b><br><span style=\"color: #FBAD3C; font-size: 24px\"> </span></h1>\n",
    "<hr>"
   ]
  },
  {
   "cell_type": "markdown",
   "id": "c90293ee-97de-4458-b14a-2fff027307a8",
   "metadata": {
    "tags": []
   },
   "source": [
    "## Data description"
   ]
  },
  {
   "cell_type": "markdown",
   "id": "da061a5d-bab7-4409-a6ba-a5d9e320a8a8",
   "metadata": {
    "tags": []
   },
   "source": [
    "👉 There are 2 datasets will be used in this notebook:\n",
    "* `Application record` (contains general information about applicant, such as applicant gender, DOB, education type, assets that applicant had, etc.)\n",
    "* `Credit record` (contains applicant's loan payment records)\n",
    "\n",
    "👉 There are 18 variables in application record data set:\n",
    "* 12 categorical variables,\n",
    "* 5 continuous variables, and\n",
    "* 1 variable to accommodate the applicant ID.\n",
    "\n",
    "👉 There are 3 variables in credit record data set:\n",
    "* 1 categorical variable,\n",
    "* 1 continuousvariable, and\n",
    "* 1 variable to accommodate the applicant ID.\n",
    "               \n",
    "               \n",
    "First we load and view the dataset"
   ]
  },
  {
   "cell_type": "markdown",
   "id": "052b6d06-3ec4-422f-8420-fca6b309df1a",
   "metadata": {
    "tags": []
   },
   "source": [
    "#### Import csv file\n",
    "\n",
    "#### Data source\n",
    "\n",
    "- [Kaggle credit card approval prediction](https://www.kaggle.com/rikdifos/credit-card-approval-prediction)"
   ]
  },
  {
   "cell_type": "markdown",
   "id": "ab9b86b9-a8c9-4a45-b838-513b59b0f83a",
   "metadata": {
    "tags": []
   },
   "source": [
    "### 1.1 Application record\n",
    "Use `pandas.read_csv` to read application_record.csv in memory. There will be a `pandas DataFrame` having the following columns:\n",
    "​\n",
    "* `ID`: Unique Id of the row\n",
    "* `CODE_GENDER`: Gender of the applicant. M is male and F is female.\n",
    "* `FLAG_OWN_CAR`: Is an applicant with a car. Y is Yes and N is NO.\n",
    "* `FLAG_OWN_REALTY`: Is an applicant with realty. Y is Yes and N is No.\n",
    "* `CNT_CHILDREN`: Count of children.\n",
    "* `AMT_INCOME_TOTAL`: the amount of the income.\n",
    "* `NAME_INCOME_TYPE`: The type of income (5 types in total).\n",
    "* `NAME_EDUCATION_TYPE`: The type of education (5 types in total).\n",
    "* `NAME_FAMILY_STATUS`: The type of family status (6 types in total).\n",
    "* `DAYS_BIRTH`: The number of the days from birth (Negative values).\n",
    "* `DAYS_EMPLOYED`: The number of the days from employed (Negative values). This column has **error values**.\n",
    "* ` FLAG_MOBIL`: Is an applicant with a mobile. 1 is True and 0 is False.\n",
    "* ` FLAG_WORK_PHONE`: Is an applicant with a work phone. 1 is True and 0 is False.\n",
    "* `FLAG_PHONE`: Is an applicant with a phone. 1 is True and 0 is False.\n",
    "* `FLAG_EMAIL`: Is an applicant with a email. 1 is True and 0 is False.\n",
    "* ` OCCUPATION_TYPE`: The type of occupation (19 types in total). This column has **missing values**.\n",
    "* ` CNT_FAM_MEMBERS`: The count of family members."
   ]
  },
  {
   "cell_type": "code",
   "execution_count": 3,
   "id": "6f17365e-12c2-476e-930b-deaaaf5c866e",
   "metadata": {},
   "outputs": [],
   "source": [
    "#import csv file\n",
    "import pandas as pd\n",
    "app_df  = pd.read_csv(\"data/application_record.csv\", encoding = 'utf-8')\n",
    "credit_status  = pd.read_csv(\"data/credit_record.csv\")"
   ]
  },
  {
   "cell_type": "markdown",
   "id": "592c3910-0af9-4774-b418-5d4ed2cff5eb",
   "metadata": {
    "tags": []
   },
   "source": [
    "### 1.2 Credit record\n",
    "This is a csv file with credit record for a part of ID in application record. We can treat it a file to generate labels for modeling. For the applicants who have a record more than 59 past due, they should be rejected.\n",
    "\n",
    "After reading the data, we have the following columns.\n",
    "\n",
    "* `ID`: Unique Id of the row in application record.\n",
    "* `MONTHS_BALANCE`: The number of months from record time.\n",
    "* `STATUS`: Credit status for this month.\n",
    "        X: No loan for the month\n",
    "        C: paid off that month \n",
    "        0: 1-29 days past due \n",
    "        1: 30-59 days past due \n",
    "        2: 60-89 days overdue\n",
    "        3: 90-119 days overdue \n",
    "        4: 120-149 days overdue \n",
    "        5: Overdue or bad debts, write-offs for more than 150 days \n"
   ]
  },
  {
   "cell_type": "markdown",
   "id": "e6d6bf18-6020-4dd6-bfc1-00c45deaa807",
   "metadata": {},
   "source": [
    "### Data combination and de-duplication\n",
    "\n",
    "This dataset's objective is predicting whether an applicant's credit card approval will be approved or not. The dataset contains applicants' basic information and applicants'credit history. There are **433887** rows in application.csv. ID is from **5008804** to **7999952**. In credit_record.csv, there are **1048575** rows of **45985** ID's credit record. ID is from **5001711** to **5150487**."
   ]
  },
  {
   "cell_type": "code",
   "execution_count": null,
   "id": "37faf96a-7fa7-47e2-bbf8-042dd62df9ec",
   "metadata": {},
   "outputs": [],
   "source": []
  }
 ],
 "metadata": {
  "kernelspec": {
   "display_name": "Python 3 (ipykernel)",
   "language": "python",
   "name": "python3"
  },
  "language_info": {
   "codemirror_mode": {
    "name": "ipython",
    "version": 3
   },
   "file_extension": ".py",
   "mimetype": "text/x-python",
   "name": "python",
   "nbconvert_exporter": "python",
   "pygments_lexer": "ipython3",
   "version": "3.9.12"
  }
 },
 "nbformat": 4,
 "nbformat_minor": 5
}
